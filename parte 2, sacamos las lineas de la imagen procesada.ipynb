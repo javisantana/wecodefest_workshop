{
 "cells": [
  {
   "cell_type": "markdown",
   "metadata": {},
   "source": [
    "# Como sacamos las líneas de la imagen procesada\n",
    "Empecemos donde lo dejamos, en este caso vamos a usar imágenes grabadas por la cámara del coche. Estas imágenes están ya recordatas, así que no tenemos que hacer ese paso. Estas imágenes están en la carpeta \"video\""
   ]
  },
  {
   "cell_type": "code",
   "execution_count": 2,
   "metadata": {},
   "outputs": [],
   "source": [
    "import numpy as np\n",
    "from scipy import ndimage\n",
    "import matplotlib.pyplot as plt\n",
    "im_cropped = ndimage.imread('video/0454.jpg', mode='L')\n",
    "plt.imshow(im_cropped) \n",
    "im_cropped[im_cropped < 128] = 0\n",
    "im_cropped[im_cropped >= 128] = 255\n",
    "dummy = plt.imshow(im_cropped)\n"
   ]
  },
  {
   "cell_type": "markdown",
   "metadata": {},
   "source": [
    "# Saquemos los puntos donde tenemos el negro usando \"where\"\n",
    "\"sabemos\" por el histograma que el fondo, donde hay máx pixels, no nos interesa, luego nos quedamos solo con los pixels con valor 0 \n"
   ]
  },
  {
   "cell_type": "code",
   "execution_count": 3,
   "metadata": {
    "scrolled": true
   },
   "outputs": [
    {
     "data": {
      "text/plain": [
       "[<matplotlib.lines.Line2D at 0x7fc01b7a05c0>]"
      ]
     },
     "execution_count": 3,
     "metadata": {},
     "output_type": "execute_result"
    },
    {
     "data": {
      "image/png": "[encoded data removed]",
      "text/plain": [
       "<matplotlib.figure.Figure at 0x7fc01b8302b0>"
      ]
     },
     "metadata": {},
     "output_type": "display_data"
    }
   ],
   "source": [
    "x, y = np.where(im_cropped == 0)\n",
    "plt.plot(x,  y, '.')\n",
    "# cuidado porque la imagen está \"rotada\". Esto nos viene bien para que el siguiente paso \n",
    "# funcione mejor por la pendiente de la recta que buscamos\n"
   ]
  },
  {
   "cell_type": "markdown",
   "metadata": {},
   "source": [
    "# vale, y ahora, con estos puntos, como saco yo líneas?!\n",
    "La regressión linear es nuestra amiga, nos permiten, dados unos puntos, encontrar una línea que se ajuste lo mejor posible a esos puntos."
   ]
  },
  {
   "cell_type": "code",
   "execution_count": 8,
   "metadata": {},
   "outputs": [
    {
     "data": {
      "text/plain": [
       "[<matplotlib.lines.Line2D at 0x7fc01b640d30>]"
      ]
     },
     "execution_count": 8,
     "metadata": {},
     "output_type": "execute_result"
    },
    {
     "data": {
      "image/png": "[encoded data removed]",
      "text/plain": [
       "<matplotlib.figure.Figure at 0x7fc01b818d68>"
      ]
     },
     "metadata": {},
     "output_type": "display_data"
    }
   ],
   "source": [
    "pfd = np.polyfit(x, y, 1)\n",
    "\n",
    "# evaluemos el polygono\n",
    "xx = np.poly1d(pfd)\n",
    "lx = np.linspace(0, im_cropped.shape[0])\n",
    "ly = xx(lx)\n",
    "#plt.xlim((0, im_cropped.shape[1]))\n",
    "#plt.ylim((im_cropped.shape[0], 0 ))\n",
    "#plt.plot(y, x, '.')\n",
    "plt.plot(x,  y, '.')\n",
    "plt.plot(lx, ly, '-')\n"
   ]
  },
  {
   "cell_type": "markdown",
   "metadata": {},
   "source": [
    "# \"rotemos\" de nuevo la recta, ojo que x e y están cambiadas para encajar con la imagen"
   ]
  },
  {
   "cell_type": "code",
   "execution_count": 5,
   "metadata": {},
   "outputs": [
    {
     "data": {
      "text/plain": [
       "[<matplotlib.lines.Line2D at 0x7fc01b7e0668>]"
      ]
     },
     "execution_count": 5,
     "metadata": {},
     "output_type": "execute_result"
    },
    {
     "data": {
      "image/png": "[encoded data removed]",
      "text/plain": [
       "<matplotlib.figure.Figure at 0x7fc01b7e0f28>"
      ]
     },
     "metadata": {},
     "output_type": "display_data"
    }
   ],
   "source": [
    "plt.imshow(im_cropped)\n",
    "plt.plot(ly, lx, '-')"
   ]
  },
  {
   "cell_type": "markdown",
   "metadata": {},
   "source": [
    "# Ahora busquemos un punto de esa línea que nos diga cuanto a la izquierda o la derecha tenemos que girar\n",
    "Cuanto más arriba más estaremos anticipando el giro del coche, tomemos la mitad"
   ]
  },
  {
   "cell_type": "code",
   "execution_count": 6,
   "metadata": {},
   "outputs": [
    {
     "data": {
      "text/plain": [
       "-0.352483615699696"
      ]
     },
     "execution_count": 6,
     "metadata": {},
     "output_type": "execute_result"
    }
   ],
   "source": [
    "xx = np.poly1d(pfd)\n",
    "dir = xx(im_cropped.shape[0] * 0.5) /  im_cropped.shape[1] - 0.5\n",
    "dir # negativo significa girar a la izquierda, possitivo derecha"
   ]
  }
 ],
 "metadata": {
  "kernelspec": {
   "display_name": "Python 3",
   "language": "python",
   "name": "python3"
  },
  "language_info": {
   "codemirror_mode": {
    "name": "ipython",
    "version": 3
   },
   "file_extension": ".py",
   "mimetype": "text/x-python",
   "name": "python",
   "nbconvert_exporter": "python",
   "pygments_lexer": "ipython3",
   "version": "3.6.3"
  }
 },
 "nbformat": 4,
 "nbformat_minor": 2
}
